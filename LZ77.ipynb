{
 "cells": [
  {
   "cell_type": "code",
   "execution_count": 1,
   "metadata": {},
   "outputs": [],
   "source": [
    "import skimage\n",
    "import os\n",
    "import numpy as np\n",
    "import cv2\n",
    "import PIL"
   ]
  },
  {
   "cell_type": "code",
   "execution_count": 2,
   "metadata": {},
   "outputs": [],
   "source": [
    "img = PIL.Image.open(\"IMG_0235.JPG\").convert(\"L\")\n",
    "imgarr = np.array(img)"
   ]
  },
  {
   "cell_type": "code",
   "execution_count": 3,
   "metadata": {
    "scrolled": true
   },
   "outputs": [],
   "source": [
    "data=np.ndarray.flatten(imgarr)"
   ]
  },
  {
   "cell_type": "code",
   "execution_count": 4,
   "metadata": {},
   "outputs": [
    {
     "data": {
      "text/plain": [
       "3024"
      ]
     },
     "execution_count": 4,
     "metadata": {},
     "output_type": "execute_result"
    }
   ],
   "source": [
    "len(imgarr)"
   ]
  },
  {
   "cell_type": "code",
   "execution_count": 5,
   "metadata": {},
   "outputs": [
    {
     "data": {
      "text/plain": [
       "12192768"
      ]
     },
     "execution_count": 5,
     "metadata": {},
     "output_type": "execute_result"
    }
   ],
   "source": [
    "len(data)"
   ]
  },
  {
   "cell_type": "code",
   "execution_count": null,
   "metadata": {},
   "outputs": [],
   "source": []
  },
  {
   "cell_type": "code",
   "execution_count": 6,
   "metadata": {},
   "outputs": [
    {
     "data": {
      "text/plain": [
       "209"
      ]
     },
     "execution_count": 6,
     "metadata": {},
     "output_type": "execute_result"
    }
   ],
   "source": [
    "data[0]"
   ]
  },
  {
   "cell_type": "code",
   "execution_count": null,
   "metadata": {},
   "outputs": [],
   "source": []
  },
  {
   "cell_type": "code",
   "execution_count": 8,
   "metadata": {},
   "outputs": [],
   "source": [
    "def lz77 (data,sb,lab):\n",
    "    dln=len(data)\n",
    "    x=[]\n",
    "    lm=0\n",
    "    gb=0\n",
    "    cd=0\n",
    "    re=[gb,lm,cd]\n",
    "    for i in range(dln-1):\n",
    "        if i == 0:\n",
    "            x.append([0,0,data[i]])\n",
    "        elif i<sb:\n",
    "            for k in range(i-1,i-sb,-1):\n",
    "                if data[k]== data[i]:\n",
    "                    gb=i-k\n",
    "                    if i-k>=lab:\n",
    "                        for t in range(0,lab,1):\n",
    "                            if data[k+t]==data[i+t]:\n",
    "                                lm=lm+1\n",
    "                            else:\n",
    "                                break\n",
    "                        re=[gb,lm,cd]\n",
    "                        x.append(re)\n",
    "                    else:\n",
    "                        for t in range(0,i-k,1):\n",
    "                            if data[k+1]==data[i+t]:\n",
    "                                lm=lm+1\n",
    "                                cd=data[i+lm]\n",
    "                                re=[gb,lm,cd]\n",
    "                            else:\n",
    "                                break\n",
    "                        x.append(re)       \n",
    "                elif k==i-sb:\n",
    "                    lm=0\n",
    "                    gb=0\n",
    "                    cd=data[i]\n",
    "                    re=[gb,lm,cd]\n",
    "                x.append(re)            \n",
    "                            \n",
    "        elif i==dln-1:\n",
    "            for k in range(i-1,i-sb,-1):\n",
    "                if data[k]==data[i]:\n",
    "                    gb=i-k\n",
    "                re=[gb,lm,cd]    \n",
    "                x.append(re)         \n",
    "        elif i>=sb:\n",
    "            for k in range(i-1,i-sb,-1):\n",
    "                if data[k]==data[i]:\n",
    "                    gb=i-k\n",
    "                    for t in range (0,lab,1):\n",
    "                        if data[k+t]==data[i+t]:\n",
    "                            lm=lm+1\n",
    "                            if i+lm<dln-1:\n",
    "                                cd=data[i+lm]\n",
    "                            else:\n",
    "                                cd=0\n",
    "                        else:\n",
    "                            break\n",
    "                        re=[gb,lm,cd]\n",
    "                        x.append(re)\n",
    "                elif k==i-sb:\n",
    "                    lm=0\n",
    "                    gb=0\n",
    "                    cd=data[i]\n",
    "                    re=[gb,lm,cd]\n",
    "                x.append(re)        \n",
    "\n",
    "    return x        \n",
    "        \n",
    "        "
   ]
  },
  {
   "cell_type": "code",
   "execution_count": null,
   "metadata": {},
   "outputs": [],
   "source": [
    "lz77(data,50,10)"
   ]
  },
  {
   "cell_type": "code",
   "execution_count": 13,
   "metadata": {},
   "outputs": [],
   "source": [
    "def decode(data):\n",
    "    dln=len(data)\n",
    "    x=[]\n",
    "    lm=0\n",
    "    gb=0\n",
    "    cd=0\n",
    "    for i in range (dln-1):\n",
    "        if i==0:\n",
    "            x[i]==data[i[2]]\n",
    "        elif i>0:\n",
    "            if gb>0:\n",
    "                gb=data[i[0]]\n",
    "                if lm>0:\n",
    "                    lm=data[i[1]]\n",
    "                    k=i\n",
    "                    for t in range (k-gb,k-gb+lm,1):\n",
    "                        x[k]=x[t]\n",
    "                        k=k+1\n",
    "                else:\n",
    "                    x[i]=x[i-gb]\n",
    "            else:\n",
    "                x[i]=data[i[2]]\n",
    "    return x\n",
    "            "
   ]
  },
  {
   "cell_type": "code",
   "execution_count": null,
   "metadata": {},
   "outputs": [],
   "source": []
  }
 ],
 "metadata": {
  "kernelspec": {
   "display_name": "Python 3",
   "language": "python",
   "name": "python3"
  },
  "language_info": {
   "codemirror_mode": {
    "name": "ipython",
    "version": 3
   },
   "file_extension": ".py",
   "mimetype": "text/x-python",
   "name": "python",
   "nbconvert_exporter": "python",
   "pygments_lexer": "ipython3",
   "version": "3.7.4"
  }
 },
 "nbformat": 4,
 "nbformat_minor": 2
}
